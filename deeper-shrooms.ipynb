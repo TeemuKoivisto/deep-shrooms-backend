{
 "cells": [
  {
   "cell_type": "markdown",
   "metadata": {},
   "source": [
    "# Multiclass version of our mushroom classifier"
   ]
  },
  {
   "cell_type": "code",
   "execution_count": 1,
   "metadata": {},
   "outputs": [],
   "source": [
    "MW_DATASET_VERSION = 'mushroom_world_2017_10_30'\n",
    "MW_DATASET_URL = 'https://s3.eu-central-1.amazonaws.com/deep-shrooms/{}.zip'.format(MW_DATASET_VERSION)\n",
    "MW_DATASET_PATH = 'data/{}/'.format(MW_DATASET_VERSION)\n",
    "\n",
    "LP_DATASET_VERSION = 'luontoportti_2017_10_30'\n",
    "LP_DATASET_URL = 'https://s3.eu-central-1.amazonaws.com/deep-shrooms/{}.zip'.format(LP_DATASET_VERSION)\n",
    "LP_DATASET_PATH = 'data/{}/'.format(LP_DATASET_VERSION)\n",
    "\n",
    "NUM_CLASSES = 10\n",
    "INPUT_SHAPE = (256, 256, 3)\n",
    "BATCH_SIZE = 128\n",
    "EPOCHS = 12"
   ]
  },
  {
   "cell_type": "code",
   "execution_count": 2,
   "metadata": {},
   "outputs": [],
   "source": [
    "from io import BytesIO\n",
    "from urllib.request import urlopen\n",
    "from zipfile import ZipFile\n",
    "\n",
    "def import_data_set(url):\n",
    "    with urlopen(url) as zip_response:\n",
    "        file_size = int(zip_response.headers.get('content-length'))\n",
    "        print(\"File {} is {} bytes large\".format(url, file_size))\n",
    "        with ZipFile(BytesIO(zip_response.read())) as zfile:\n",
    "            zfile.extractall('./data')\n"
   ]
  },
  {
   "cell_type": "code",
   "execution_count": 3,
   "metadata": {},
   "outputs": [
    {
     "name": "stdout",
     "output_type": "stream",
     "text": [
      "File https://s3.eu-central-1.amazonaws.com/deep-shrooms/mushroom_world_2017_10_30.zip is 7200944 bytes large\n",
      "File https://s3.eu-central-1.amazonaws.com/deep-shrooms/luontoportti_2017_10_30.zip is 11244003 bytes large\n"
     ]
    }
   ],
   "source": [
    "import_data_set(MW_DATASET_URL)\n",
    "import_data_set(LP_DATASET_URL)"
   ]
  },
  {
   "cell_type": "code",
   "execution_count": 4,
   "metadata": {},
   "outputs": [],
   "source": [
    "import pandas as pd\n",
    "import numpy as np\n",
    "\n",
    "mw_mushroom_classes = pd.read_json(MW_DATASET_PATH + 'mushroom_classes.json', lines=True)\n",
    "mw_mushroom_imgs = pd.read_json(MW_DATASET_PATH + 'mushroom_imgs.json', lines=True)\n",
    "mw_mushroom_info = mw_mushroom_imgs.merge(mw_mushroom_classes, how = \"right\", on = \"name_latin\")\n",
    "\n",
    "lp_mushroom_classes = pd.read_csv(LP_DATASET_PATH + 'lp_mushroom_classes.csv', sep='\\t')\n",
    "lp_mushroom_imgs = pd.read_csv(LP_DATASET_PATH + 'lp_mushroom_imgs.csv', sep='\\t')"
   ]
  },
  {
   "cell_type": "code",
   "execution_count": 5,
   "metadata": {},
   "outputs": [
    {
     "name": "stdout",
     "output_type": "stream",
     "text": [
      "inedible                202\n",
      "edible                  149\n",
      "poisonous                77\n",
      "edible and good          50\n",
      "edible and excellent     27\n",
      "lethally poisonous       16\n",
      "edible when cooked       15\n",
      "Name: edibility, dtype: int64\n",
      "syötävyys: *** – erinomainen ruokasieni                                                                                  137\n",
      "syötävyys: * – syötävä ruokasieni                                                                                        134\n",
      "syötävyys: *** – erinomainen ruokasieni, eviran suosittelema                                                             124\n",
      "syötävyys: ** – hyvä ruokasieni                                                                                          101\n",
      "syötävyys: ** – hyvä ruokasieni, eviran suosittelema                                                                      72\n",
      "syötävyys: o* – keittämisen jälkeen syötävä ruokasieni                                                                    51\n",
      "syötävyys: x – käyttökelvoton                                                                                             48\n",
      "syötävyys: ††† – tappavan myrkyllinen                                                                                     39\n",
      "syötävyys: o** – keittämisen jälkeen hyvä ruokasieni, eviran suosittelema                                                 36\n",
      "syötävyys: † – lievästi myrkyllinen                                                                                       27\n",
      "syötävyys: †† – myrkyllinen                                                                                               24\n",
      "syötävyys: x – käyttökelvoton ruokasienenä                                                                                21\n",
      "syötävyys: o** – keittämisen jälkeen hyvä ruokasieni                                                                      18\n",
      "syötävyys: *** – erinomainen ruokasieni, eviran suosittelema. (lajiepiteetti                                              12\n",
      "syötävyys: x – syötäväksi kelpaamaton                                                                                     12\n",
      "syötävyys: o** – keittämisen jälkeen hyvä ruokasieni, ei kuitenkaan suositella syötäväksi useita kertoja viikossa         12\n",
      "suku: vahverot –                                                                                                          12\n",
      "syötävyys: †††o*** – tuoreena tappavan myrkyllinen, oikein esikäsiteltynä erinomainen ruokasieni, eviran suosittelema      9\n",
      "syötävyys: * –  syötävä ruokasieni                                                                                         9\n",
      "syötävyys: o* – ryöppäämisen jälkeen syötävä ruokasieni                                                                    9\n",
      "syötävyys: ** – hyvä ruokasieni, eviran suosittelema (saa myydä vaaleaorakkaan seassa)                                     9\n",
      "syötävyys: *** –  erinomainen ruokasieni                                                                                   6\n",
      "syötävyys: x – ei syötävä ruokasieni (paitsi maustekäytössä)                                                               5\n",
      "syötävyys: ††† –  tappavan myrkyllinen                                                                                     3\n",
      "Name: edibility, dtype: int64\n"
     ]
    }
   ],
   "source": [
    "print(mw_mushroom_info.edibility.value_counts())\n",
    "print(lp_mushroom_imgs.edibility.value_counts())"
   ]
  },
  {
   "cell_type": "code",
   "execution_count": null,
   "metadata": {},
   "outputs": [],
   "source": []
  }
 ],
 "metadata": {
  "kernelspec": {
   "display_name": "Python 3",
   "language": "python",
   "name": "python3"
  },
  "language_info": {
   "codemirror_mode": {
    "name": "ipython",
    "version": 3
   },
   "file_extension": ".py",
   "mimetype": "text/x-python",
   "name": "python",
   "nbconvert_exporter": "python",
   "pygments_lexer": "ipython3",
   "version": "3.6.3"
  }
 },
 "nbformat": 4,
 "nbformat_minor": 2
}
