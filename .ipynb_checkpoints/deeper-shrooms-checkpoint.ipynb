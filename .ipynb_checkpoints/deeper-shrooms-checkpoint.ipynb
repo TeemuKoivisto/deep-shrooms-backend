{
 "cells": [
  {
   "cell_type": "markdown",
   "metadata": {},
   "source": [
    "# Multiclass version of our mushroom classifier"
   ]
  },
  {
   "cell_type": "code",
   "execution_count": 1,
   "metadata": {},
   "outputs": [],
   "source": [
    "MW_DATASET_VERSION = 'mushroom_world_2017_10_30'\n",
    "MW_DATASET_URL = 'https://s3.eu-central-1.amazonaws.com/deep-shrooms/{}.zip'.format(MW_DATASET_VERSION)\n",
    "MW_DATASET_PATH = 'data/{}/'.format(MW_DATASET_VERSION)\n",
    "\n",
    "LP_DATASET_VERSION = 'luontoportti_2017_10_30'\n",
    "LP_DATASET_URL = 'https://s3.eu-central-1.amazonaws.com/deep-shrooms/{}.zip'.format(LP_DATASET_VERSION)\n",
    "LP_DATASET_PATH = 'data/{}/'.format(LP_DATASET_VERSION)\n",
    "\n",
    "CLASSES = ['edible', 'edible when prepared', 'inedible', 'poisonous', 'deadly']\n",
    "NUM_CLASSES = len(CLASSES)\n",
    "INPUT_SHAPE = (256, 256, 3)\n",
    "BATCH_SIZE = 128\n",
    "EPOCHS = 12"
   ]
  },
  {
   "cell_type": "code",
   "execution_count": 2,
   "metadata": {},
   "outputs": [],
   "source": [
    "from io import BytesIO\n",
    "from urllib.request import urlopen\n",
    "from zipfile import ZipFile\n",
    "\n",
    "def import_data_set(url):\n",
    "    with urlopen(url) as zip_response:\n",
    "        file_size = int(zip_response.headers.get('content-length'))\n",
    "        print(\"File {} is {} MB large\".format(url, file_size/1000000))\n",
    "        with ZipFile(BytesIO(zip_response.read())) as zfile:\n",
    "            zfile.extractall('./data')\n"
   ]
  },
  {
   "cell_type": "code",
   "execution_count": 3,
   "metadata": {},
   "outputs": [
    {
     "name": "stdout",
     "output_type": "stream",
     "text": [
      "File https://s3.eu-central-1.amazonaws.com/deep-shrooms/mushroom_world_2017_10_30.zip is 7.200944 MB large\n",
      "File https://s3.eu-central-1.amazonaws.com/deep-shrooms/luontoportti_2017_10_30.zip is 11.243985 MB large\n"
     ]
    }
   ],
   "source": [
    "import_data_set(MW_DATASET_URL)\n",
    "import_data_set(LP_DATASET_URL)"
   ]
  },
  {
   "cell_type": "code",
   "execution_count": 4,
   "metadata": {},
   "outputs": [],
   "source": [
    "import pandas as pd\n",
    "import numpy as np\n",
    "\n",
    "mw_mushroom_classes = pd.read_json(MW_DATASET_PATH + 'mushroom_classes.json', lines=True)\n",
    "mw_mushroom_imgs = pd.read_json(MW_DATASET_PATH + 'mushroom_imgs.json', lines=True)\n",
    "mw_mushroom_info = mw_mushroom_imgs.merge(mw_mushroom_classes, how = \"right\", on = \"name_latin\")\n",
    "\n",
    "lp_mushroom_classes = pd.read_csv(LP_DATASET_PATH + 'lp_mushroom_classes.csv', sep='\\t')\n",
    "lp_mushroom_imgs = pd.read_csv(LP_DATASET_PATH + 'lp_mushroom_imgs.csv', sep='\\t')"
   ]
  },
  {
   "cell_type": "code",
   "execution_count": 5,
   "metadata": {},
   "outputs": [
    {
     "name": "stdout",
     "output_type": "stream",
     "text": [
      "syötävyys: o** – keittämisen jälkeen hyvä ruokasieni\n"
     ]
    }
   ],
   "source": [
    "print(lp_mushroom_imgs.at[0, 'edibility'])"
   ]
  },
  {
   "cell_type": "markdown",
   "metadata": {},
   "source": [
    "## Format labels\n",
    "\n",
    "Following labels will be formatted into 5 different classes.\n",
    "\n",
    "### From mushroom.world\n",
    "* inedible                202\n",
    "* edible                  149\n",
    "* poisonous                77\n",
    "* edible and good          50\n",
    "* edible and excellent     27\n",
    "* lethally poisonous       16\n",
    "* edible when cooked       15\n",
    "\n",
    "### From luontoportti.fi\n",
    "\n",
    "* syötävyys: *** – erinomainen ruokasieni 149\n",
    "* syötävyys: * – syötävä ruokasieni 134\n",
    "* syötävyys: *** – erinomainen ruokasieni, eviran suosittelema 124\n",
    "* syötävyys: ** – hyvä ruokasieni 101\n",
    "* syötävyys: ** – hyvä ruokasieni, eviran suosittelema 72\n",
    "* syötävyys: o* – keittämisen jälkeen syötävä ruokasieni 51\n",
    "* syötävyys: x – käyttökelvoton 48\n",
    "* syötävyys: ††† – tappavan myrkyllinen 39\n",
    "* syötävyys: o** – keittämisen jälkeen hyvä ruokasieni, eviran suosittelema 36\n",
    "* syötävyys: † – lievästi myrkyllinen 27\n",
    "* syötävyys: †† – myrkyllinen 24\n",
    "* syötävyys: x – käyttökelvoton ruokasienenä 21\n",
    "* syötävyys: o** – keittämisen jälkeen hyvä ruokasieni 18\n",
    "* syötävyys: *** – erinomainen ruokasieni, eviran suosittelema. (lajiepiteetti 12\n",
    "* syötävyys: x – syötäväksi kelpaamaton 12\n",
    "* syötävyys: o** – keittämisen jälkeen hyvä ruokasieni, ei kuitenkaan suositella syötäväksi useita kertoja viikossa 12\n",
    "* syötävyys: †††o*** – tuoreena tappavan myrkyllinen, oikein esikäsiteltynä erinomainen ruokasieni, eviran suosittelema 9\n",
    "* syötävyys: * –  syötävä ruokasieni 9\n",
    "* syötävyys: o* – ryöppäämisen jälkeen syötävä ruokasieni 9\n",
    "* syötävyys: ** – hyvä ruokasieni, eviran suosittelema (saa myydä vaaleaorakkaan seassa) 9\n",
    "* syötävyys: *** –  erinomainen ruokasieni 6\n",
    "* syötävyys: x – ei syötävä ruokasieni (paitsi maustekäytössä) 5\n",
    "* syötävyys: ††† –  tappavan myrkyllinen 3\n",
    "\n",
    "### End result\n",
    "\n",
    "* edible\n",
    "* edible when prepared\n",
    "* inedible\n",
    "* poisonous\n",
    "* deadly"
   ]
  },
  {
   "cell_type": "code",
   "execution_count": 6,
   "metadata": {},
   "outputs": [
    {
     "name": "stdout",
     "output_type": "stream",
     "text": [
      "Target classes: ['edible', 'edible when prepared', 'inedible', 'poisonous', 'deadly']\n"
     ]
    }
   ],
   "source": [
    "mw_edible = ['edible', 'edible and good', 'edible and excellent']\n",
    "lp_edible = ['syötävyys: *']\n",
    "\n",
    "mw_edible_when_prepared = ['edible when cooked']\n",
    "lp_edible_when_prepared = ['syötävyys: o', 'syötävyys: †††o*']\n",
    "\n",
    "mw_inedible = ['inedible']\n",
    "lp_inedible = ['syötävyys: x']\n",
    "\n",
    "mw_poisonous = ['poisonous']\n",
    "lp_poisonous = ['syötävyys: † –', 'syötävyys: †† –']\n",
    "\n",
    "mw_deadly = ['lethally poisonous']\n",
    "lp_deadly = ['syötävyys: †††']\n",
    "\n",
    "print(\"Target classes: {}\".format(CLASSES))"
   ]
  },
  {
   "cell_type": "code",
   "execution_count": 7,
   "metadata": {},
   "outputs": [
    {
     "data": {
      "text/plain": [
       "inedible                202\n",
       "edible                  149\n",
       "poisonous                77\n",
       "edible and good          50\n",
       "edible and excellent     27\n",
       "lethally poisonous       16\n",
       "edible when cooked       15\n",
       "Name: edibility, dtype: int64"
      ]
     },
     "execution_count": 7,
     "metadata": {},
     "output_type": "execute_result"
    }
   ],
   "source": [
    "#df2 = mw_mushroom_info.copy(deep=True)\n",
    "#df3 = lp_mushroom_imgs.copy(deep=True)\n",
    "mw_mushroom_info.edibility.value_counts()\n",
    "#df3.edibility.value_counts()"
   ]
  },
  {
   "cell_type": "code",
   "execution_count": 8,
   "metadata": {},
   "outputs": [
    {
     "data": {
      "text/plain": [
       "edible                  226\n",
       "inedible                202\n",
       "poisonous                77\n",
       "deadly                   16\n",
       "edible when prepared     15\n",
       "Name: edibility, dtype: int64"
      ]
     },
     "execution_count": 8,
     "metadata": {},
     "output_type": "execute_result"
    }
   ],
   "source": [
    "df2 = mw_mushroom_info\n",
    "\n",
    "df2.edibility = df2.edibility.where(~df2.edibility.isin(mw_edible), 'edible')\n",
    "df2.edibility = df2.edibility.where(~df2.edibility.isin(mw_edible_when_prepared), 'edible when prepared')\n",
    "df2.edibility = df2.edibility.where(~df2.edibility.isin(mw_deadly), 'deadly')\n",
    "\n",
    "mw_mushroom_info.edibility.value_counts()"
   ]
  },
  {
   "cell_type": "code",
   "execution_count": 9,
   "metadata": {},
   "outputs": [
    {
     "data": {
      "text/plain": [
       "edible                  616\n",
       "edible when prepared    135\n",
       "inedible                 86\n",
       "poisonous                51\n",
       "deadly                   42\n",
       "Name: edibility, dtype: int64"
      ]
     },
     "execution_count": 9,
     "metadata": {},
     "output_type": "execute_result"
    }
   ],
   "source": [
    "df3 = lp_mushroom_imgs\n",
    "\n",
    "df3.edibility = df3.edibility.apply(lambda x: CLASSES[0] if len([s for s in lp_edible if s in x]) > 0 else x)\n",
    "df3.edibility = df3.edibility.apply(lambda x: CLASSES[1] if len([s for s in lp_edible_when_prepared if s in x]) > 0 else x)\n",
    "df3.edibility = df3.edibility.apply(lambda x: CLASSES[2] if len([s for s in lp_inedible if s in x]) > 0 else x)\n",
    "df3.edibility = df3.edibility.apply(lambda x: CLASSES[3] if len([s for s in lp_poisonous if s in x]) > 0 else x)\n",
    "df3.edibility = df3.edibility.apply(lambda x: CLASSES[4] if len([s for s in lp_deadly if s in x]) > 0 else x)\n",
    "\n",
    "lp_mushroom_imgs.edibility.value_counts()"
   ]
  },
  {
   "cell_type": "code",
   "execution_count": 10,
   "metadata": {},
   "outputs": [],
   "source": [
    "from scipy import misc\n",
    "\n",
    "def load_mushroom_images(folder_path, img_df):\n",
    "    img_dict = {}\n",
    "    for row in img_df.itertuples():\n",
    "        img_dict[row.Index] = misc.imread(folder_path + row.file_path)\n",
    "    return img_dict\n",
    "        \n",
    "mw_img_dict = load_mushroom_images(MW_DATASET_PATH, mw_mushroom_info)\n",
    "lp_img_dict = load_mushroom_images(LP_DATASET_PATH, lp_mushroom_imgs)\n",
    "\n",
    "# Add dictionaries as new columns to the dataframes\n",
    "mw_mushroom_info['img'] = pd.Series(mw_img_dict)\n",
    "lp_mushroom_imgs['img'] = pd.Series(lp_img_dict)"
   ]
  },
  {
   "cell_type": "code",
   "execution_count": 11,
   "metadata": {},
   "outputs": [],
   "source": [
    "#print(mw_mushroom_info.head())"
   ]
  },
  {
   "cell_type": "code",
   "execution_count": 12,
   "metadata": {},
   "outputs": [
    {
     "name": "stdout",
     "output_type": "stream",
     "text": [
      "edibility                                              inedible\n",
      "file_path                   mushroom_img/tylopilus_felleus0.jpg\n",
      "img           [[[255, 255, 255], [255, 255, 255], [255, 255,...\n",
      "img_url       http://www.mushroom.world/data/fungi/Tylopilus...\n",
      "img_urls      [http://www.mushroom.world/data/fungi/Tylopilu...\n",
      "name_eng                                          Bitter Bolete\n",
      "name_fin                                                    NaN\n",
      "name_img                                 tylopilus_felleus0.jpg\n",
      "name_latin                                    Tylopilus felleus\n",
      "url_mw        http://www.mushroom.world/show?n=Tylopilus-fel...\n",
      "Name: 0, dtype: object\n",
      "edibility                                                edible\n",
      "file_path                   lp_mushroom_img/suillus_luteus6.jpg\n",
      "img           [[[255, 255, 255], [255, 255, 255], [255, 255,...\n",
      "img_url       http://www.luontoportti.com/suomi/images/24589...\n",
      "img_urls                                                    NaN\n",
      "name_eng                                                    NaN\n",
      "name_fin                                               Voitatti\n",
      "name_img                                    suillus_luteus6.jpg\n",
      "name_latin                                       Suillus luteus\n",
      "url_mw                                                      NaN\n",
      "Name: 1455, dtype: object\n",
      "\n",
      "Total amount of mushroom pictures: 1466\n"
     ]
    }
   ],
   "source": [
    "# Combining the two dataframes together\n",
    "\n",
    "all_mushroom_df = mw_mushroom_info.append(lp_mushroom_imgs, ignore_index=True)\n",
    "\n",
    "# Will result in a dataframe that has multiple NaN columns also in cases where \n",
    "# the data is available from the another column eg. name_fin or name_eng\n",
    "\n",
    "print(all_mushroom_df.loc[0])\n",
    "print(all_mushroom_df.loc[1455])\n",
    "print(\"\\nTotal amount of mushroom pictures: {}\".format(len(all_mushroom_df)))\n",
    "\n",
    "# Drop all useless columns for the training of the model\n",
    "# Leave only name_latin, edibility img?\n",
    "\n",
    "all_mushroom_imgs = all_mushroom_df.filter(['name_latin', 'edibility', 'img'])"
   ]
  },
  {
   "cell_type": "code",
   "execution_count": 13,
   "metadata": {},
   "outputs": [
    {
     "name": "stdout",
     "output_type": "stream",
     "text": [
      "name_latin                                    Tylopilus felleus\n",
      "edibility                                              inedible\n",
      "img           [[[255, 255, 255], [255, 255, 255], [255, 255,...\n",
      "Name: 0, dtype: object\n",
      "name_latin                                       Suillus luteus\n",
      "edibility                                                edible\n",
      "img           [[[255, 255, 255], [255, 255, 255], [255, 255,...\n",
      "Name: 1455, dtype: object\n"
     ]
    }
   ],
   "source": [
    "print(all_mushroom_imgs.loc[0])\n",
    "print(all_mushroom_imgs.loc[1455])"
   ]
  },
  {
   "cell_type": "code",
   "execution_count": null,
   "metadata": {},
   "outputs": [],
   "source": []
  }
 ],
 "metadata": {
  "kernelspec": {
   "display_name": "Python 3",
   "language": "python",
   "name": "python3"
  },
  "language_info": {
   "codemirror_mode": {
    "name": "ipython",
    "version": 3
   },
   "file_extension": ".py",
   "mimetype": "text/x-python",
   "name": "python",
   "nbconvert_exporter": "python",
   "pygments_lexer": "ipython3",
   "version": "3.6.3"
  }
 },
 "nbformat": 4,
 "nbformat_minor": 2
}
